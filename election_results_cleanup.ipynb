{
 "cells": [
  {
   "cell_type": "code",
   "execution_count": 1,
   "metadata": {
    "collapsed": true
   },
   "outputs": [],
   "source": [
    "import pandas as pd\n",
    "import numpy as np\n",
    "import json\n",
    "import csv"
   ]
  },
  {
   "cell_type": "markdown",
   "metadata": {},
   "source": [
    "Now we'll load in the data with Pandas read_csv. We'll also use the head() command to double check that we're getting what we want."
   ]
  },
  {
   "cell_type": "code",
   "execution_count": 3,
   "metadata": {
    "scrolled": false
   },
   "outputs": [
    {
     "data": {
      "text/html": [
       "<div>\n",
       "<style>\n",
       "    .dataframe thead tr:only-child th {\n",
       "        text-align: right;\n",
       "    }\n",
       "\n",
       "    .dataframe thead th {\n",
       "        text-align: left;\n",
       "    }\n",
       "\n",
       "    .dataframe tbody tr th {\n",
       "        vertical-align: top;\n",
       "    }\n",
       "</style>\n",
       "<table border=\"1\" class=\"dataframe\">\n",
       "  <thead>\n",
       "    <tr style=\"text-align: right;\">\n",
       "      <th></th>\n",
       "      <th>fips</th>\n",
       "      <th>geo_name</th>\n",
       "      <th>individual_party</th>\n",
       "      <th>is_incumbent</th>\n",
       "      <th>is_winner</th>\n",
       "      <th>name</th>\n",
       "      <th>rank</th>\n",
       "      <th>reporting_pct</th>\n",
       "      <th>state</th>\n",
       "      <th>vote_pct</th>\n",
       "      <th>votes</th>\n",
       "    </tr>\n",
       "  </thead>\n",
       "  <tbody>\n",
       "    <tr>\n",
       "      <th>0</th>\n",
       "      <td>1</td>\n",
       "      <td>1st District Election</td>\n",
       "      <td>republican</td>\n",
       "      <td>True</td>\n",
       "      <td>True</td>\n",
       "      <td>B. Byrne</td>\n",
       "      <td>1</td>\n",
       "      <td>100.0</td>\n",
       "      <td>Alabama</td>\n",
       "      <td>NaN</td>\n",
       "      <td>NaN</td>\n",
       "    </tr>\n",
       "    <tr>\n",
       "      <th>1</th>\n",
       "      <td>2</td>\n",
       "      <td>2nd District Election</td>\n",
       "      <td>republican</td>\n",
       "      <td>True</td>\n",
       "      <td>True</td>\n",
       "      <td>M. Roby</td>\n",
       "      <td>1</td>\n",
       "      <td>100.0</td>\n",
       "      <td>Alabama</td>\n",
       "      <td>54.6</td>\n",
       "      <td>134450.0</td>\n",
       "    </tr>\n",
       "    <tr>\n",
       "      <th>2</th>\n",
       "      <td>2</td>\n",
       "      <td>2nd District Election</td>\n",
       "      <td>democrat</td>\n",
       "      <td>False</td>\n",
       "      <td>False</td>\n",
       "      <td>N. Mathis</td>\n",
       "      <td>2</td>\n",
       "      <td>100.0</td>\n",
       "      <td>Alabama</td>\n",
       "      <td>45.4</td>\n",
       "      <td>111640.0</td>\n",
       "    </tr>\n",
       "    <tr>\n",
       "      <th>3</th>\n",
       "      <td>3</td>\n",
       "      <td>3rd District Election</td>\n",
       "      <td>republican</td>\n",
       "      <td>True</td>\n",
       "      <td>True</td>\n",
       "      <td>M. Rogers</td>\n",
       "      <td>1</td>\n",
       "      <td>100.0</td>\n",
       "      <td>Alabama</td>\n",
       "      <td>67.1</td>\n",
       "      <td>190724.0</td>\n",
       "    </tr>\n",
       "    <tr>\n",
       "      <th>4</th>\n",
       "      <td>3</td>\n",
       "      <td>3rd District Election</td>\n",
       "      <td>democrat</td>\n",
       "      <td>False</td>\n",
       "      <td>False</td>\n",
       "      <td>J. Smith</td>\n",
       "      <td>2</td>\n",
       "      <td>100.0</td>\n",
       "      <td>Alabama</td>\n",
       "      <td>32.9</td>\n",
       "      <td>93567.0</td>\n",
       "    </tr>\n",
       "  </tbody>\n",
       "</table>\n",
       "</div>"
      ],
      "text/plain": [
       "   fips               geo_name individual_party  is_incumbent  is_winner  \\\n",
       "0     1  1st District Election       republican          True       True   \n",
       "1     2  2nd District Election       republican          True       True   \n",
       "2     2  2nd District Election         democrat         False      False   \n",
       "3     3  3rd District Election       republican          True       True   \n",
       "4     3  3rd District Election         democrat         False      False   \n",
       "\n",
       "        name  rank  reporting_pct    state  vote_pct     votes  \n",
       "0   B. Byrne     1          100.0  Alabama       NaN       NaN  \n",
       "1    M. Roby     1          100.0  Alabama      54.6  134450.0  \n",
       "2  N. Mathis     2          100.0  Alabama      45.4  111640.0  \n",
       "3  M. Rogers     1          100.0  Alabama      67.1  190724.0  \n",
       "4   J. Smith     2          100.0  Alabama      32.9   93567.0  "
      ]
     },
     "execution_count": 3,
     "metadata": {},
     "output_type": "execute_result"
    }
   ],
   "source": [
    "df = pd.read_csv(\"house_general_election_2016.csv\")\n",
    "df.head()"
   ]
  },
  {
   "cell_type": "markdown",
   "metadata": {},
   "source": [
    "Notice that we have several datapoints all corresponding to one district! We need to change this to allow us to properly bind the data with D3 to our district GeoJSON path data. So we will iterate through the rows of the dataframe, using pd.iterrows(), adding elements from each row into a larger datapoint corresponding to one district.\n",
    "\n",
    "We will output a JSON file. The JSON will have the following format:\n",
    "\n",
    "`{\"cd114\": [{state: _, district:_, results:{D:[{candidate:_,\n",
    "                                                rank:_,\n",
    "                                                vote_pct_,\n",
    "                                                votes:_,\n",
    "                                                is_winner:_,\n",
    "                                                is_incumbent:_},...],\n",
    "                                           R:[...],\n",
    "                                           I:[...]}}`"
   ]
  },
  {
   "cell_type": "code",
   "execution_count": 4,
   "metadata": {
    "collapsed": true,
    "scrolled": true
   },
   "outputs": [],
   "source": [
    "df_new = {\"cd114\": []}\n",
    "\n",
    "next_row = {\"state\": None, \"district\": None, \"results\": {\"D\": [], \"R\": [], \"I\": []}}\n",
    "# Keep track of the current district and state\n",
    "curr_state = next(df.iterrows())[1][\"state\"]\n",
    "curr_district = next(df.iterrows())[1][\"fips\"]\n",
    "# Loop through iterrows\n",
    "for row in df.iterrows():\n",
    "    # Check if next datapoint has different state or district than the current\n",
    "    # If so, we compile the current data point and update\n",
    "    if row[1][\"state\"] != curr_state or row[1][\"fips\"] != curr_district:\n",
    "        next_row[\"state\"] = curr_state\n",
    "        next_row[\"district\"] = curr_district\n",
    "        df_new[\"cd114\"].append(next_row)\n",
    "        next_row = {\"state\": None, \"district\": None, \"results\": {\"D\": [], \"R\": [], \"I\": []}}\n",
    "        curr_state = row[1][\"state\"]\n",
    "        curr_district = row[1][\"fips\"]\n",
    "            \n",
    "    curr_party = row[1][\"individual_party\"]\n",
    "    vote_pct = \"NaN\"\n",
    "    votes = \"NaN\"\n",
    "    if not np.isnan(row[1][\"vote_pct\"]):\n",
    "        vote_pct = row[1][\"vote_pct\"]\n",
    "    if not np.isnan(row[1][\"votes\"]):\n",
    "        votes = row[1][\"votes\"]\n",
    "    \n",
    "    # Result specific to a candidate.\n",
    "    candidate_result = {\"candidate\": row[1][\"name\"],\n",
    "                        \"rank\": row[1][\"rank\"],\n",
    "                        \"vote_pct\": vote_pct,\n",
    "                        \"votes\": votes,\n",
    "                        \"is_winner\": row[1][\"is_winner\"],\n",
    "                        \"is_incumbent\": row[1][\"is_incumbent\"]}\n",
    "    \n",
    "    if curr_party == \"democrat\":\n",
    "        next_row[\"results\"][\"D\"].append(candidate_result)\n",
    "    elif curr_party == \"republican\":\n",
    "        next_row[\"results\"][\"R\"].append(candidate_result)\n",
    "    else:\n",
    "        next_row[\"results\"][\"I\"].append(candidate_result)\n",
    "\n",
    "next_row[\"state\"] = str(df.get_value(df.shape[0]-1,\"state\"))\n",
    "next_row[\"district\"] = int(df.get_value(df.shape[0]-1,\"fips\"))\n",
    "df_new[\"cd114\"].append(next_row)      "
   ]
  },
  {
   "cell_type": "markdown",
   "metadata": {},
   "source": [
    "Now we just need to output our JSON to a file (in this case a .txt file was used)."
   ]
  },
  {
   "cell_type": "code",
   "execution_count": 5,
   "metadata": {
    "collapsed": true
   },
   "outputs": [],
   "source": [
    "with open(\"congressional_results_2016.txt\", \"w\") as f:\n",
    "    json.dump(df_new, f, ensure_ascii=False)"
   ]
  }
 ],
 "metadata": {
  "kernelspec": {
   "display_name": "Python 3",
   "language": "python",
   "name": "python3"
  },
  "language_info": {
   "codemirror_mode": {
    "name": "ipython",
    "version": 3
   },
   "file_extension": ".py",
   "mimetype": "text/x-python",
   "name": "python",
   "nbconvert_exporter": "python",
   "pygments_lexer": "ipython3",
   "version": "3.6.1"
  }
 },
 "nbformat": 4,
 "nbformat_minor": 2
}
